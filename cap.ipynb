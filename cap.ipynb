{
 "cells": [
  {
   "cell_type": "code",
<<<<<<< HEAD
   "execution_count": 18,
=======
   "execution_count": 1,
>>>>>>> c4b2f93e363745b0a29b79e50385a34e7e7d4a9d
   "metadata": {},
   "outputs": [],
   "source": [
    "import pandas as pd"
   ]
  },
  {
   "cell_type": "code",
<<<<<<< HEAD
   "execution_count": 19,
=======
   "execution_count": 4,
>>>>>>> c4b2f93e363745b0a29b79e50385a34e7e7d4a9d
   "metadata": {},
   "outputs": [],
   "source": [
    "df = pd.read_csv(\"canada_cap.csv\")"
   ]
  },
  {
   "cell_type": "code",
<<<<<<< HEAD
   "execution_count": 20,
=======
   "execution_count": 5,
>>>>>>> c4b2f93e363745b0a29b79e50385a34e7e7d4a9d
   "metadata": {},
   "outputs": [
    {
     "data": {
      "text/html": [
       "<div>\n",
       "<style scoped>\n",
       "    .dataframe tbody tr th:only-of-type {\n",
       "        vertical-align: middle;\n",
       "    }\n",
       "\n",
       "    .dataframe tbody tr th {\n",
       "        vertical-align: top;\n",
       "    }\n",
       "\n",
       "    .dataframe thead th {\n",
       "        text-align: right;\n",
       "    }\n",
       "</style>\n",
       "<table border=\"1\" class=\"dataframe\">\n",
       "  <thead>\n",
       "    <tr style=\"text-align: right;\">\n",
       "      <th></th>\n",
       "      <th>year</th>\n",
       "      <th>per capita income</th>\n",
       "    </tr>\n",
       "  </thead>\n",
       "  <tbody>\n",
       "    <tr>\n",
       "      <th>0</th>\n",
       "      <td>1970</td>\n",
       "      <td>3399.299037</td>\n",
       "    </tr>\n",
       "    <tr>\n",
       "      <th>1</th>\n",
       "      <td>1971</td>\n",
       "      <td>3768.297935</td>\n",
       "    </tr>\n",
       "    <tr>\n",
       "      <th>2</th>\n",
       "      <td>1972</td>\n",
       "      <td>4251.175484</td>\n",
       "    </tr>\n",
       "    <tr>\n",
       "      <th>3</th>\n",
       "      <td>1973</td>\n",
       "      <td>4804.463248</td>\n",
       "    </tr>\n",
       "    <tr>\n",
       "      <th>4</th>\n",
       "      <td>1974</td>\n",
       "      <td>5576.514583</td>\n",
       "    </tr>\n",
       "    <tr>\n",
       "      <th>5</th>\n",
       "      <td>1975</td>\n",
       "      <td>5998.144346</td>\n",
       "    </tr>\n",
       "    <tr>\n",
       "      <th>6</th>\n",
       "      <td>1976</td>\n",
       "      <td>7062.131392</td>\n",
       "    </tr>\n",
       "    <tr>\n",
       "      <th>7</th>\n",
       "      <td>1977</td>\n",
       "      <td>7100.126170</td>\n",
       "    </tr>\n",
       "    <tr>\n",
       "      <th>8</th>\n",
       "      <td>1978</td>\n",
       "      <td>7247.967035</td>\n",
       "    </tr>\n",
       "    <tr>\n",
       "      <th>9</th>\n",
       "      <td>1979</td>\n",
       "      <td>7602.912681</td>\n",
       "    </tr>\n",
       "    <tr>\n",
       "      <th>10</th>\n",
       "      <td>1980</td>\n",
       "      <td>8355.968120</td>\n",
       "    </tr>\n",
       "    <tr>\n",
       "      <th>11</th>\n",
       "      <td>1981</td>\n",
       "      <td>9434.390652</td>\n",
       "    </tr>\n",
       "    <tr>\n",
       "      <th>12</th>\n",
       "      <td>1982</td>\n",
       "      <td>9619.438377</td>\n",
       "    </tr>\n",
       "    <tr>\n",
       "      <th>13</th>\n",
       "      <td>1983</td>\n",
       "      <td>10416.536590</td>\n",
       "    </tr>\n",
       "    <tr>\n",
       "      <th>14</th>\n",
       "      <td>1984</td>\n",
       "      <td>10790.328720</td>\n",
       "    </tr>\n",
       "    <tr>\n",
       "      <th>15</th>\n",
       "      <td>1985</td>\n",
       "      <td>11018.955850</td>\n",
       "    </tr>\n",
       "    <tr>\n",
       "      <th>16</th>\n",
       "      <td>1986</td>\n",
       "      <td>11482.891530</td>\n",
       "    </tr>\n",
       "    <tr>\n",
       "      <th>17</th>\n",
       "      <td>1987</td>\n",
       "      <td>12974.806620</td>\n",
       "    </tr>\n",
       "    <tr>\n",
       "      <th>18</th>\n",
       "      <td>1988</td>\n",
       "      <td>15080.283450</td>\n",
       "    </tr>\n",
       "    <tr>\n",
       "      <th>19</th>\n",
       "      <td>1989</td>\n",
       "      <td>16426.725480</td>\n",
       "    </tr>\n",
       "    <tr>\n",
       "      <th>20</th>\n",
       "      <td>1990</td>\n",
       "      <td>16838.673200</td>\n",
       "    </tr>\n",
       "    <tr>\n",
       "      <th>21</th>\n",
       "      <td>1991</td>\n",
       "      <td>17266.097690</td>\n",
       "    </tr>\n",
       "    <tr>\n",
       "      <th>22</th>\n",
       "      <td>1992</td>\n",
       "      <td>16412.083090</td>\n",
       "    </tr>\n",
       "    <tr>\n",
       "      <th>23</th>\n",
       "      <td>1993</td>\n",
       "      <td>15875.586730</td>\n",
       "    </tr>\n",
       "    <tr>\n",
       "      <th>24</th>\n",
       "      <td>1994</td>\n",
       "      <td>15755.820270</td>\n",
       "    </tr>\n",
       "    <tr>\n",
       "      <th>25</th>\n",
       "      <td>1995</td>\n",
       "      <td>16369.317250</td>\n",
       "    </tr>\n",
       "    <tr>\n",
       "      <th>26</th>\n",
       "      <td>1996</td>\n",
       "      <td>16699.826680</td>\n",
       "    </tr>\n",
       "    <tr>\n",
       "      <th>27</th>\n",
       "      <td>1997</td>\n",
       "      <td>17310.757750</td>\n",
       "    </tr>\n",
       "    <tr>\n",
       "      <th>28</th>\n",
       "      <td>1998</td>\n",
       "      <td>16622.671870</td>\n",
       "    </tr>\n",
       "    <tr>\n",
       "      <th>29</th>\n",
       "      <td>1999</td>\n",
       "      <td>17581.024140</td>\n",
       "    </tr>\n",
       "    <tr>\n",
       "      <th>30</th>\n",
       "      <td>2000</td>\n",
       "      <td>18987.382410</td>\n",
       "    </tr>\n",
       "    <tr>\n",
       "      <th>31</th>\n",
       "      <td>2001</td>\n",
       "      <td>18601.397240</td>\n",
       "    </tr>\n",
       "    <tr>\n",
       "      <th>32</th>\n",
       "      <td>2002</td>\n",
       "      <td>19232.175560</td>\n",
       "    </tr>\n",
       "    <tr>\n",
       "      <th>33</th>\n",
       "      <td>2003</td>\n",
       "      <td>22739.426280</td>\n",
       "    </tr>\n",
       "    <tr>\n",
       "      <th>34</th>\n",
       "      <td>2004</td>\n",
       "      <td>25719.147150</td>\n",
       "    </tr>\n",
       "    <tr>\n",
       "      <th>35</th>\n",
       "      <td>2005</td>\n",
       "      <td>29198.055690</td>\n",
       "    </tr>\n",
       "    <tr>\n",
       "      <th>36</th>\n",
       "      <td>2006</td>\n",
       "      <td>32738.262900</td>\n",
       "    </tr>\n",
       "    <tr>\n",
       "      <th>37</th>\n",
       "      <td>2007</td>\n",
       "      <td>36144.481220</td>\n",
       "    </tr>\n",
       "    <tr>\n",
       "      <th>38</th>\n",
       "      <td>2008</td>\n",
       "      <td>37446.486090</td>\n",
       "    </tr>\n",
       "    <tr>\n",
       "      <th>39</th>\n",
       "      <td>2009</td>\n",
       "      <td>32755.176820</td>\n",
       "    </tr>\n",
       "    <tr>\n",
       "      <th>40</th>\n",
       "      <td>2010</td>\n",
       "      <td>38420.522890</td>\n",
       "    </tr>\n",
       "    <tr>\n",
       "      <th>41</th>\n",
       "      <td>2011</td>\n",
       "      <td>42334.711210</td>\n",
       "    </tr>\n",
       "    <tr>\n",
       "      <th>42</th>\n",
       "      <td>2012</td>\n",
       "      <td>42665.255970</td>\n",
       "    </tr>\n",
       "    <tr>\n",
       "      <th>43</th>\n",
       "      <td>2013</td>\n",
       "      <td>42676.468370</td>\n",
       "    </tr>\n",
       "    <tr>\n",
       "      <th>44</th>\n",
       "      <td>2014</td>\n",
       "      <td>41039.893600</td>\n",
       "    </tr>\n",
       "    <tr>\n",
       "      <th>45</th>\n",
       "      <td>2015</td>\n",
       "      <td>35175.188980</td>\n",
       "    </tr>\n",
       "    <tr>\n",
       "      <th>46</th>\n",
       "      <td>2016</td>\n",
       "      <td>34229.193630</td>\n",
       "    </tr>\n",
       "  </tbody>\n",
       "</table>\n",
       "</div>"
      ],
      "text/plain": [
       "    year  per capita income\n",
       "0   1970        3399.299037\n",
       "1   1971        3768.297935\n",
       "2   1972        4251.175484\n",
       "3   1973        4804.463248\n",
       "4   1974        5576.514583\n",
       "5   1975        5998.144346\n",
       "6   1976        7062.131392\n",
       "7   1977        7100.126170\n",
       "8   1978        7247.967035\n",
       "9   1979        7602.912681\n",
       "10  1980        8355.968120\n",
       "11  1981        9434.390652\n",
       "12  1982        9619.438377\n",
       "13  1983       10416.536590\n",
       "14  1984       10790.328720\n",
       "15  1985       11018.955850\n",
       "16  1986       11482.891530\n",
       "17  1987       12974.806620\n",
       "18  1988       15080.283450\n",
       "19  1989       16426.725480\n",
       "20  1990       16838.673200\n",
       "21  1991       17266.097690\n",
       "22  1992       16412.083090\n",
       "23  1993       15875.586730\n",
       "24  1994       15755.820270\n",
       "25  1995       16369.317250\n",
       "26  1996       16699.826680\n",
       "27  1997       17310.757750\n",
       "28  1998       16622.671870\n",
       "29  1999       17581.024140\n",
       "30  2000       18987.382410\n",
       "31  2001       18601.397240\n",
       "32  2002       19232.175560\n",
       "33  2003       22739.426280\n",
       "34  2004       25719.147150\n",
       "35  2005       29198.055690\n",
       "36  2006       32738.262900\n",
       "37  2007       36144.481220\n",
       "38  2008       37446.486090\n",
       "39  2009       32755.176820\n",
       "40  2010       38420.522890\n",
       "41  2011       42334.711210\n",
       "42  2012       42665.255970\n",
       "43  2013       42676.468370\n",
       "44  2014       41039.893600\n",
       "45  2015       35175.188980\n",
       "46  2016       34229.193630"
      ]
     },
<<<<<<< HEAD
     "execution_count": 20,
=======
     "execution_count": 5,
>>>>>>> c4b2f93e363745b0a29b79e50385a34e7e7d4a9d
     "metadata": {},
     "output_type": "execute_result"
    }
   ],
   "source": [
    "df"
   ]
  },
  {
   "cell_type": "code",
<<<<<<< HEAD
   "execution_count": 21,
=======
   "execution_count": 9,
>>>>>>> c4b2f93e363745b0a29b79e50385a34e7e7d4a9d
   "metadata": {},
   "outputs": [
    {
     "data": {
      "text/plain": [
<<<<<<< HEAD
       "<matplotlib.collections.PathCollection at 0x1eb5296efd0>"
      ]
     },
     "execution_count": 21,
=======
       "<matplotlib.collections.PathCollection at 0x2950fcac190>"
      ]
     },
     "execution_count": 9,
>>>>>>> c4b2f93e363745b0a29b79e50385a34e7e7d4a9d
     "metadata": {},
     "output_type": "execute_result"
    },
    {
     "data": {
      "image/png": "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",
      "text/plain": [
       "<Figure size 640x480 with 1 Axes>"
      ]
     },
     "metadata": {},
     "output_type": "display_data"
    }
   ],
   "source": [
    "import matplotlib.pyplot as plt\n",
    "%matplotlib inline\n",
    "plt.scatter(df.year,df['per capita income'],marker=\"+\")"
   ]
  },
  {
   "cell_type": "code",
<<<<<<< HEAD
   "execution_count": 22,
=======
   "execution_count": 10,
>>>>>>> c4b2f93e363745b0a29b79e50385a34e7e7d4a9d
   "metadata": {},
   "outputs": [],
   "source": [
    "from sklearn.linear_model import LinearRegression"
   ]
  },
  {
   "cell_type": "code",
<<<<<<< HEAD
   "execution_count": 23,
   "metadata": {},
   "outputs": [
    {
     "data": {
      "text/plain": [
       "<matplotlib.collections.PathCollection at 0x1eb7fac95d0>"
      ]
     },
     "execution_count": 23,
     "metadata": {},
     "output_type": "execute_result"
    },
    {
     "data": {
      "image/png": "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",
      "text/plain": [
       "<Figure size 640x480 with 1 Axes>"
      ]
     },
     "metadata": {},
     "output_type": "display_data"
=======
   "execution_count": 47,
   "metadata": {},
   "outputs": [
    {
     "name": "stdout",
     "output_type": "stream",
     "text": [
      "    year\n",
      "27  1997\n",
      "39  2009\n",
      "26  1996\n",
      "43  2013\n",
      "24  1994\n",
      "36  2006\n",
      "12  1982\n",
      "19  1989\n",
      "4   1974\n",
      "25  1995\n",
      "8   1978\n",
      "3   1973\n",
      "6   1976\n",
      "40  2010\n",
      "33  2003\n",
      "13  1983\n",
      "17  1987\n",
      "44  2014\n",
      "15  1985\n",
      "9   1979\n",
      "16  1986\n",
      "29  1999\n",
      "32  2002\n",
      "45  2015\n",
      "    per capita income\n",
      "27       17310.757750\n",
      "39       32755.176820\n",
      "26       16699.826680\n",
      "43       42676.468370\n",
      "24       15755.820270\n",
      "36       32738.262900\n",
      "12        9619.438377\n",
      "19       16426.725480\n",
      "4         5576.514583\n",
      "25       16369.317250\n",
      "8         7247.967035\n",
      "3         4804.463248\n",
      "6         7062.131392\n",
      "40       38420.522890\n",
      "33       22739.426280\n",
      "13       10416.536590\n",
      "17       12974.806620\n",
      "44       41039.893600\n",
      "15       11018.955850\n",
      "9         7602.912681\n",
      "16       11482.891530\n",
      "29       17581.024140\n",
      "32       19232.175560\n",
      "45       35175.188980\n"
     ]
>>>>>>> c4b2f93e363745b0a29b79e50385a34e7e7d4a9d
    }
   ],
   "source": [
    "regr = LinearRegression()\n",
    "from sklearn.model_selection import train_test_split\n",
    "x_train, x_test, y_train, y_test = train_test_split(df[['year']],df[['per capita income']],train_size=0.5,random_state=42)\n",
<<<<<<< HEAD
    "import matplotlib.pyplot as plt\n",
    "%matplotlib inline\n",
    "plt.scatter(x_train,y_train,marker=\"+\")"
=======
    "print(x_test)\n",
    "print(y_test)"
>>>>>>> c4b2f93e363745b0a29b79e50385a34e7e7d4a9d
   ]
  },
  {
   "cell_type": "code",
<<<<<<< HEAD
   "execution_count": 24,
=======
   "execution_count": 48,
>>>>>>> c4b2f93e363745b0a29b79e50385a34e7e7d4a9d
   "metadata": {},
   "outputs": [
    {
     "data": {
      "text/html": [
<<<<<<< HEAD
       "<style>#sk-container-id-1 {color: black;}#sk-container-id-1 pre{padding: 0;}#sk-container-id-1 div.sk-toggleable {background-color: white;}#sk-container-id-1 label.sk-toggleable__label {cursor: pointer;display: block;width: 100%;margin-bottom: 0;padding: 0.3em;box-sizing: border-box;text-align: center;}#sk-container-id-1 label.sk-toggleable__label-arrow:before {content: \"▸\";float: left;margin-right: 0.25em;color: #696969;}#sk-container-id-1 label.sk-toggleable__label-arrow:hover:before {color: black;}#sk-container-id-1 div.sk-estimator:hover label.sk-toggleable__label-arrow:before {color: black;}#sk-container-id-1 div.sk-toggleable__content {max-height: 0;max-width: 0;overflow: hidden;text-align: left;background-color: #f0f8ff;}#sk-container-id-1 div.sk-toggleable__content pre {margin: 0.2em;color: black;border-radius: 0.25em;background-color: #f0f8ff;}#sk-container-id-1 input.sk-toggleable__control:checked~div.sk-toggleable__content {max-height: 200px;max-width: 100%;overflow: auto;}#sk-container-id-1 input.sk-toggleable__control:checked~label.sk-toggleable__label-arrow:before {content: \"▾\";}#sk-container-id-1 div.sk-estimator input.sk-toggleable__control:checked~label.sk-toggleable__label {background-color: #d4ebff;}#sk-container-id-1 div.sk-label input.sk-toggleable__control:checked~label.sk-toggleable__label {background-color: #d4ebff;}#sk-container-id-1 input.sk-hidden--visually {border: 0;clip: rect(1px 1px 1px 1px);clip: rect(1px, 1px, 1px, 1px);height: 1px;margin: -1px;overflow: hidden;padding: 0;position: absolute;width: 1px;}#sk-container-id-1 div.sk-estimator {font-family: monospace;background-color: #f0f8ff;border: 1px dotted black;border-radius: 0.25em;box-sizing: border-box;margin-bottom: 0.5em;}#sk-container-id-1 div.sk-estimator:hover {background-color: #d4ebff;}#sk-container-id-1 div.sk-parallel-item::after {content: \"\";width: 100%;border-bottom: 1px solid gray;flex-grow: 1;}#sk-container-id-1 div.sk-label:hover label.sk-toggleable__label {background-color: #d4ebff;}#sk-container-id-1 div.sk-serial::before {content: \"\";position: absolute;border-left: 1px solid gray;box-sizing: border-box;top: 0;bottom: 0;left: 50%;z-index: 0;}#sk-container-id-1 div.sk-serial {display: flex;flex-direction: column;align-items: center;background-color: white;padding-right: 0.2em;padding-left: 0.2em;position: relative;}#sk-container-id-1 div.sk-item {position: relative;z-index: 1;}#sk-container-id-1 div.sk-parallel {display: flex;align-items: stretch;justify-content: center;background-color: white;position: relative;}#sk-container-id-1 div.sk-item::before, #sk-container-id-1 div.sk-parallel-item::before {content: \"\";position: absolute;border-left: 1px solid gray;box-sizing: border-box;top: 0;bottom: 0;left: 50%;z-index: -1;}#sk-container-id-1 div.sk-parallel-item {display: flex;flex-direction: column;z-index: 1;position: relative;background-color: white;}#sk-container-id-1 div.sk-parallel-item:first-child::after {align-self: flex-end;width: 50%;}#sk-container-id-1 div.sk-parallel-item:last-child::after {align-self: flex-start;width: 50%;}#sk-container-id-1 div.sk-parallel-item:only-child::after {width: 0;}#sk-container-id-1 div.sk-dashed-wrapped {border: 1px dashed gray;margin: 0 0.4em 0.5em 0.4em;box-sizing: border-box;padding-bottom: 0.4em;background-color: white;}#sk-container-id-1 div.sk-label label {font-family: monospace;font-weight: bold;display: inline-block;line-height: 1.2em;}#sk-container-id-1 div.sk-label-container {text-align: center;}#sk-container-id-1 div.sk-container {/* jupyter's `normalize.less` sets `[hidden] { display: none; }` but bootstrap.min.css set `[hidden] { display: none !important; }` so we also need the `!important` here to be able to override the default hidden behavior on the sphinx rendered scikit-learn.org. See: https://github.com/scikit-learn/scikit-learn/issues/21755 */display: inline-block !important;position: relative;}#sk-container-id-1 div.sk-text-repr-fallback {display: none;}</style><div id=\"sk-container-id-1\" class=\"sk-top-container\"><div class=\"sk-text-repr-fallback\"><pre>LinearRegression()</pre><b>In a Jupyter environment, please rerun this cell to show the HTML representation or trust the notebook. <br />On GitHub, the HTML representation is unable to render, please try loading this page with nbviewer.org.</b></div><div class=\"sk-container\" hidden><div class=\"sk-item\"><div class=\"sk-estimator sk-toggleable\"><input class=\"sk-toggleable__control sk-hidden--visually\" id=\"sk-estimator-id-1\" type=\"checkbox\" checked><label for=\"sk-estimator-id-1\" class=\"sk-toggleable__label sk-toggleable__label-arrow\">LinearRegression</label><div class=\"sk-toggleable__content\"><pre>LinearRegression()</pre></div></div></div></div></div>"
=======
       "<style>#sk-container-id-5 {color: black;}#sk-container-id-5 pre{padding: 0;}#sk-container-id-5 div.sk-toggleable {background-color: white;}#sk-container-id-5 label.sk-toggleable__label {cursor: pointer;display: block;width: 100%;margin-bottom: 0;padding: 0.3em;box-sizing: border-box;text-align: center;}#sk-container-id-5 label.sk-toggleable__label-arrow:before {content: \"▸\";float: left;margin-right: 0.25em;color: #696969;}#sk-container-id-5 label.sk-toggleable__label-arrow:hover:before {color: black;}#sk-container-id-5 div.sk-estimator:hover label.sk-toggleable__label-arrow:before {color: black;}#sk-container-id-5 div.sk-toggleable__content {max-height: 0;max-width: 0;overflow: hidden;text-align: left;background-color: #f0f8ff;}#sk-container-id-5 div.sk-toggleable__content pre {margin: 0.2em;color: black;border-radius: 0.25em;background-color: #f0f8ff;}#sk-container-id-5 input.sk-toggleable__control:checked~div.sk-toggleable__content {max-height: 200px;max-width: 100%;overflow: auto;}#sk-container-id-5 input.sk-toggleable__control:checked~label.sk-toggleable__label-arrow:before {content: \"▾\";}#sk-container-id-5 div.sk-estimator input.sk-toggleable__control:checked~label.sk-toggleable__label {background-color: #d4ebff;}#sk-container-id-5 div.sk-label input.sk-toggleable__control:checked~label.sk-toggleable__label {background-color: #d4ebff;}#sk-container-id-5 input.sk-hidden--visually {border: 0;clip: rect(1px 1px 1px 1px);clip: rect(1px, 1px, 1px, 1px);height: 1px;margin: -1px;overflow: hidden;padding: 0;position: absolute;width: 1px;}#sk-container-id-5 div.sk-estimator {font-family: monospace;background-color: #f0f8ff;border: 1px dotted black;border-radius: 0.25em;box-sizing: border-box;margin-bottom: 0.5em;}#sk-container-id-5 div.sk-estimator:hover {background-color: #d4ebff;}#sk-container-id-5 div.sk-parallel-item::after {content: \"\";width: 100%;border-bottom: 1px solid gray;flex-grow: 1;}#sk-container-id-5 div.sk-label:hover label.sk-toggleable__label {background-color: #d4ebff;}#sk-container-id-5 div.sk-serial::before {content: \"\";position: absolute;border-left: 1px solid gray;box-sizing: border-box;top: 0;bottom: 0;left: 50%;z-index: 0;}#sk-container-id-5 div.sk-serial {display: flex;flex-direction: column;align-items: center;background-color: white;padding-right: 0.2em;padding-left: 0.2em;position: relative;}#sk-container-id-5 div.sk-item {position: relative;z-index: 1;}#sk-container-id-5 div.sk-parallel {display: flex;align-items: stretch;justify-content: center;background-color: white;position: relative;}#sk-container-id-5 div.sk-item::before, #sk-container-id-5 div.sk-parallel-item::before {content: \"\";position: absolute;border-left: 1px solid gray;box-sizing: border-box;top: 0;bottom: 0;left: 50%;z-index: -1;}#sk-container-id-5 div.sk-parallel-item {display: flex;flex-direction: column;z-index: 1;position: relative;background-color: white;}#sk-container-id-5 div.sk-parallel-item:first-child::after {align-self: flex-end;width: 50%;}#sk-container-id-5 div.sk-parallel-item:last-child::after {align-self: flex-start;width: 50%;}#sk-container-id-5 div.sk-parallel-item:only-child::after {width: 0;}#sk-container-id-5 div.sk-dashed-wrapped {border: 1px dashed gray;margin: 0 0.4em 0.5em 0.4em;box-sizing: border-box;padding-bottom: 0.4em;background-color: white;}#sk-container-id-5 div.sk-label label {font-family: monospace;font-weight: bold;display: inline-block;line-height: 1.2em;}#sk-container-id-5 div.sk-label-container {text-align: center;}#sk-container-id-5 div.sk-container {/* jupyter's `normalize.less` sets `[hidden] { display: none; }` but bootstrap.min.css set `[hidden] { display: none !important; }` so we also need the `!important` here to be able to override the default hidden behavior on the sphinx rendered scikit-learn.org. See: https://github.com/scikit-learn/scikit-learn/issues/21755 */display: inline-block !important;position: relative;}#sk-container-id-5 div.sk-text-repr-fallback {display: none;}</style><div id=\"sk-container-id-5\" class=\"sk-top-container\"><div class=\"sk-text-repr-fallback\"><pre>LinearRegression()</pre><b>In a Jupyter environment, please rerun this cell to show the HTML representation or trust the notebook. <br />On GitHub, the HTML representation is unable to render, please try loading this page with nbviewer.org.</b></div><div class=\"sk-container\" hidden><div class=\"sk-item\"><div class=\"sk-estimator sk-toggleable\"><input class=\"sk-toggleable__control sk-hidden--visually\" id=\"sk-estimator-id-5\" type=\"checkbox\" checked><label for=\"sk-estimator-id-5\" class=\"sk-toggleable__label sk-toggleable__label-arrow\">LinearRegression</label><div class=\"sk-toggleable__content\"><pre>LinearRegression()</pre></div></div></div></div></div>"
>>>>>>> c4b2f93e363745b0a29b79e50385a34e7e7d4a9d
      ],
      "text/plain": [
       "LinearRegression()"
      ]
     },
<<<<<<< HEAD
     "execution_count": 24,
=======
     "execution_count": 48,
>>>>>>> c4b2f93e363745b0a29b79e50385a34e7e7d4a9d
     "metadata": {},
     "output_type": "execute_result"
    }
   ],
   "source": [
    "regr.fit(x_train,y_train)"
   ]
  },
  {
   "cell_type": "code",
<<<<<<< HEAD
   "execution_count": 25,
=======
   "execution_count": 49,
>>>>>>> c4b2f93e363745b0a29b79e50385a34e7e7d4a9d
   "metadata": {},
   "outputs": [
    {
     "name": "stdout",
     "output_type": "stream",
     "text": [
      "89.11531247072134\n"
     ]
    },
    {
     "data": {
      "text/plain": [
<<<<<<< HEAD
       "[<matplotlib.lines.Line2D at 0x1eb7fb356d0>]"
      ]
     },
     "execution_count": 25,
=======
       "[<matplotlib.lines.Line2D at 0x2952a87fd10>]"
      ]
     },
     "execution_count": 49,
>>>>>>> c4b2f93e363745b0a29b79e50385a34e7e7d4a9d
     "metadata": {},
     "output_type": "execute_result"
    },
    {
     "data": {
      "image/png": "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",
      "text/plain": [
       "<Figure size 640x480 with 1 Axes>"
      ]
     },
     "metadata": {},
     "output_type": "display_data"
    }
   ],
   "source": [
    "y_pred = regr.predict(x_test)\n",
    "from sklearn.metrics import r2_score\n",
    "score = r2_score(y_test,y_pred)\n",
    "print(score*100)\n",
    "import matplotlib.pyplot as plt\n",
    "%matplotlib inline\n",
    "plt.scatter(x_test,y_test,marker=\"+\")\n",
    "plt.plot(x_test,y_pred)"
   ]
  },
  {
   "cell_type": "code",
<<<<<<< HEAD
   "execution_count": 26,
=======
   "execution_count": 46,
>>>>>>> c4b2f93e363745b0a29b79e50385a34e7e7d4a9d
   "metadata": {},
   "outputs": [
    {
     "name": "stderr",
     "output_type": "stream",
     "text": [
      "c:\\Users\\callr\\AppData\\Local\\Programs\\Python\\Python311\\Lib\\site-packages\\sklearn\\base.py:464: UserWarning: X does not have valid feature names, but LinearRegression was fitted with feature names\n",
      "  warnings.warn(\n"
     ]
    },
    {
     "data": {
      "text/plain": [
<<<<<<< HEAD
       "array([[44155.98715331]])"
      ]
     },
     "execution_count": 26,
=======
       "array([[43454.50444892]])"
      ]
     },
     "execution_count": 46,
>>>>>>> c4b2f93e363745b0a29b79e50385a34e7e7d4a9d
     "metadata": {},
     "output_type": "execute_result"
    }
   ],
   "source": [
    "regr.predict([[2023]])"
   ]
  },
  {
   "cell_type": "code",
   "execution_count": null,
   "metadata": {},
   "outputs": [],
   "source": []
  },
  {
   "cell_type": "code",
   "execution_count": null,
   "metadata": {},
   "outputs": [],
   "source": []
  }
 ],
 "metadata": {
  "kernelspec": {
   "display_name": "Python 3",
   "language": "python",
   "name": "python3"
  },
  "language_info": {
   "codemirror_mode": {
    "name": "ipython",
    "version": 3
   },
   "file_extension": ".py",
   "mimetype": "text/x-python",
   "name": "python",
   "nbconvert_exporter": "python",
   "pygments_lexer": "ipython3",
   "version": "3.11.1"
  },
  "orig_nbformat": 4
 },
 "nbformat": 4,
 "nbformat_minor": 2
}
